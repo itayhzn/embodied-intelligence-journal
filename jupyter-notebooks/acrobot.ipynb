{
 "cells": [
  {
   "cell_type": "code",
   "execution_count": 1,
   "metadata": {},
   "outputs": [],
   "source": [
    "import numpy as np\n",
    "from pydrake.all import (\n",
    "    ControllabilityMatrix,\n",
    "    DiagramBuilder,\n",
    "    Linearize,\n",
    "    LinearQuadraticRegulator,\n",
    "    MeshcatVisualizer,\n",
    "    Saturation,\n",
    "    SceneGraph,\n",
    "    Simulator,\n",
    "    StartMeshcat,\n",
    "    WrapToSystem,\n",
    ")\n",
    "from pydrake.examples import AcrobotGeometry, AcrobotInput, AcrobotPlant, AcrobotState\n",
    "\n",
    "from underactuated import running_as_notebook\n",
    "from underactuated.meshcat_utils import MeshcatSliders"
   ]
  },
  {
   "cell_type": "code",
   "execution_count": 2,
   "metadata": {},
   "outputs": [
    {
     "name": "stderr",
     "output_type": "stream",
     "text": [
      "INFO:drake:Meshcat listening for connections at http://localhost:7001\n"
     ]
    }
   ],
   "source": [
    "# Start the visualizer (run this cell only once, each instance consumes a port)\n",
    "meshcat = StartMeshcat()"
   ]
  },
  {
   "cell_type": "code",
   "execution_count": null,
   "metadata": {},
   "outputs": [],
   "source": [
    "def acrobot_demo():\n",
    "    builder = DiagramBuilder()\n",
    "    acrobot = builder.AddSystem(AcrobotPlant())\n",
    "\n",
    "    # Setup visualization\n",
    "    scene_graph = builder.AddSystem(SceneGraph())\n",
    "    AcrobotGeometry.AddToBuilder(builder, acrobot.get_output_port(0), scene_graph)\n",
    "    meshcat.Delete()\n",
    "    meshcat.Set2dRenderMode(xmin=-4, xmax=4, ymin=-4, ymax=4)\n",
    "    MeshcatVisualizer.AddToBuilder(builder, scene_graph, meshcat)\n",
    "\n",
    "    # Setup slider input\n",
    "    meshcat.AddSlider(\n",
    "        \"u\",\n",
    "        min=-5,\n",
    "        max=5,\n",
    "        step=0.1,\n",
    "        value=0.0,\n",
    "        decrement_keycode=\"ArrowLeft\",\n",
    "        increment_keycode=\"ArrowRight\",\n",
    "    )\n",
    "    torque_system = builder.AddSystem(MeshcatSliders(meshcat, [\"u\"]))\n",
    "    builder.Connect(torque_system.get_output_port(), acrobot.get_input_port())\n",
    "\n",
    "    diagram = builder.Build()\n",
    "\n",
    "    # Set up a simulator to run this diagram\n",
    "    simulator = Simulator(diagram)\n",
    "    context = simulator.get_mutable_context()\n",
    "\n",
    "    # Set the initial conditions (theta1, theta2, theta1dot, theta2dot)\n",
    "    context.SetContinuousState([1, 0, 0, 0])\n",
    "\n",
    "    if running_as_notebook:  # Then we're not just running as a test on CI.\n",
    "        simulator.set_target_realtime_rate(1.0)\n",
    "\n",
    "        print(\"Use the slider in the MeshCat controls to apply elbow torque.\")\n",
    "        print(\"Press 'Stop Simulation' in MeshCat to continue.\")\n",
    "        meshcat.AddButton(\"Stop Simulation\")\n",
    "        while meshcat.GetButtonClicks(\"Stop Simulation\") < 1:\n",
    "            simulator.AdvanceTo(simulator.get_context().get_time() + 1.0)\n",
    "    else:\n",
    "        simulator.AdvanceTo(0.1)\n",
    "\n",
    "    meshcat.DeleteAddedControls()\n",
    "\n",
    "\n",
    "acrobot_demo()"
   ]
  },
  {
   "cell_type": "code",
   "execution_count": null,
   "metadata": {},
   "outputs": [],
   "source": []
  },
  {
   "cell_type": "code",
   "execution_count": null,
   "metadata": {},
   "outputs": [],
   "source": []
  },
  {
   "cell_type": "code",
   "execution_count": null,
   "metadata": {},
   "outputs": [],
   "source": []
  }
 ],
 "metadata": {
  "kernelspec": {
   "display_name": "Python 3",
   "language": "python",
   "name": "python3"
  },
  "language_info": {
   "codemirror_mode": {
    "name": "ipython",
    "version": 3
   },
   "file_extension": ".py",
   "mimetype": "text/x-python",
   "name": "python",
   "nbconvert_exporter": "python",
   "pygments_lexer": "ipython3",
   "version": "3.12.8"
  }
 },
 "nbformat": 4,
 "nbformat_minor": 2
}
