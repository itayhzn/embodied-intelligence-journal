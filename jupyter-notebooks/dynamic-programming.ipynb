{
 "cells": [
  {
   "cell_type": "code",
   "execution_count": 1,
   "metadata": {},
   "outputs": [],
   "source": [
    "import numpy as np\n",
    "from tqdm import tqdm\n",
    "import matplotlib.pyplot as plt\n",
    "%matplotlib widget"
   ]
  },
  {
   "cell_type": "markdown",
   "metadata": {},
   "source": [
    "# Implementing Dynamic Programming"
   ]
  },
  {
   "cell_type": "markdown",
   "metadata": {},
   "source": [
    "## Example: The Double Integrator"
   ]
  },
  {
   "cell_type": "markdown",
   "metadata": {},
   "source": [
    "![Double Integrator](https://underactuated.csail.mit.edu/figures/double_integrator_brick.svg)"
   ]
  },
  {
   "cell_type": "code",
   "execution_count": 2,
   "metadata": {},
   "outputs": [],
   "source": [
    "granularity = 0.1\n",
    "\n",
    "# State space: (x, x_dot), where x between -max_x and max_x and x_dot between -max_x_dot and max_x_dot\n",
    "max_x = 3.0\n",
    "X = np.arange(-max_x, max_x+granularity, granularity)\n",
    "max_x_dot = 4.0\n",
    "X_dot = np.arange(-max_x_dot, max_x_dot+1, granularity)\n",
    "# XX, XX_dot = np.meshgrid(X, X_dot)\n",
    "S = np.zeros((len(X), len(X_dot)))\n",
    "\n",
    "# Action space: torque, where torque between -max_torque and max_torque\n",
    "max_torque = 1\n",
    "A = np.arange(-max_torque, max_torque+granularity, granularity)\n",
    "\n",
    "# Goal state = [0, 0], i.e. stop (x_dot=0) at the origin (x=0)\n",
    "s_goal = [0, 0]\n",
    "is_goal = lambda s: np.array_equal(s, s_goal)"
   ]
  },
  {
   "cell_type": "code",
   "execution_count": 3,
   "metadata": {},
   "outputs": [],
   "source": [
    "# Transition function: f(s, a)\n",
    "delta_t = 0.01\n",
    "def f(x, x_dot, a):\n",
    "    x_dot += np.round(a*delta_t)\n",
    "    x += np.round(x_dot*delta_t + 0.5*a*delta_t*delta_t)\n",
    "    return x, x_dot\n",
    "\n",
    "# Cost function: g(s, a) = minimum time to reach the goal state\n",
    "def g(s, a):\n",
    "    return 1 "
   ]
  },
  {
   "cell_type": "code",
   "execution_count": 4,
   "metadata": {},
   "outputs": [],
   "source": [
    "def convert_idx_to_xxdot(idx):\n",
    "    return (idx[0]*granularity - max_x, idx[1]*granularity - max_x_dot)\n",
    "\n",
    "def convert_xxdot_to_idx(x, x_dot):\n",
    "    return (int((x + max_x)/granularity), int((x_dot + max_x_dot)/granularity))\n",
    "\n",
    "def xxdot_in_bounds(x, x_dot):\n",
    "    return -max_x <= x < max_x and -max_x_dot <= x_dot < max_x_dot"
   ]
  },
  {
   "cell_type": "code",
   "execution_count": null,
   "metadata": {},
   "outputs": [],
   "source": [
    "T = max(S.shape)\n",
    "    \n",
    "for t in tqdm(range(T)):\n",
    "    S_copy = np.copy(S)\n",
    "    for idx, s in np.ndenumerate(S_copy):\n",
    "        x, x_dot = convert_idx_to_xxdot(idx)\n",
    "        if is_goal(idx):\n",
    "            continue\n",
    "\n",
    "        S[idx] = min([g((x, x_dot), a) + S_copy[convert_xxdot_to_idx(*f(x, x_dot, a))] for a in A if xxdot_in_bounds(*f(x, x_dot, a))], default=0)\n",
    "\n",
    "    if np.array_equal(S, S_copy):\n",
    "        print(\"Converged at t = \", t)\n",
    "        break  "
   ]
  },
  {
   "cell_type": "code",
   "execution_count": null,
   "metadata": {},
   "outputs": [],
   "source": [
    "from matplotlib import pyplot as plt\n",
    "fig, ax = plt.subplots()\n",
    "c = ax.pcolormesh(S)\n",
    "fig.colorbar(c, ax=ax)\n",
    "plt.show()"
   ]
  },
  {
   "cell_type": "code",
   "execution_count": null,
   "metadata": {},
   "outputs": [],
   "source": [
    "import matplotlib.pyplot as plt\n",
    "from mpl_toolkits.mplot3d import Axes3D\n",
    "\n",
    "fig = plt.figure()\n",
    "ax = fig.add_subplot(111, projection='3d')\n",
    "\n",
    "XX, YY = np.meshgrid(X, X_dot)\n",
    "print(X.shape, X_dot.shape, S.shape)\n",
    "print(XX.shape, YY.shape, S.shape)\n",
    "\n",
    "ax.plot_surface(XX, YY, S.T, cmap='viridis')\n",
    "ax.set_xlabel('x')\n",
    "ax.set_ylabel('x_dot')\n",
    "ax.set_zlabel('Cost-to-go')\n",
    "plt.show()"
   ]
  },
  {
   "cell_type": "markdown",
   "metadata": {},
   "source": [
    "## The Double Integrator: 2nd Try"
   ]
  },
  {
   "cell_type": "code",
   "execution_count": 10,
   "metadata": {},
   "outputs": [],
   "source": [
    "q = np.linspace(-3.0, 3.0, 31)\n",
    "qdot = np.linspace(-4.0, 4.0, 51)\n",
    "state_grid = [set(q), set(qdot)]\n",
    "dt = 0.1\n",
    "\n",
    "input_grid = set(np.linspace(-1.0, 1.0, 9))\n",
    "\n",
    "[Q, Qdot] = np.meshgrid(q, qdot, indexing='ij')"
   ]
  },
  {
   "cell_type": "code",
   "execution_count": 25,
   "metadata": {},
   "outputs": [],
   "source": [
    "A = np.array([[0, 1], [0, 0]])\n",
    "B = np.array([0, 1])\n",
    "\n",
    "# The linear system is defined as: x_dot = A*x + B*u, where\n",
    "#    x = [q, q_dot], u = [torque], x_dot = [q_dot, q_ddot]\n",
    "# Simplifying the linear system we get: \n",
    "#    q_dot = q_dot\n",
    "#    q_ddot = torque\n",
    "def f(x, u):\n",
    "    # return x[0] + x[1]*dt - 0.5*u*dt*dt , x[1] + u*dt\n",
    "    return x[1], u\n",
    "\n",
    "# The cost function is 1 (minimum time to reach the goal state)\n",
    "def is_goal(x):\n",
    "    return np.array_equal(x, np.array([0, 0]))\n",
    "\n",
    "def g(x, u):\n",
    "    return 1 if not is_goal(x) else 0\n",
    "\n",
    "def find_nearest_idx(array, value):\n",
    "    return (np.abs(array - value)).argmin()\n",
    "\n",
    "def convert_state_to_nearest_idx(x):\n",
    "    return (find_nearest_idx(q, x[0]), find_nearest_idx(qdot, x[1]))"
   ]
  },
  {
   "cell_type": "code",
   "execution_count": 26,
   "metadata": {},
   "outputs": [],
   "source": [
    "J = np.zeros(Q.shape)\n",
    "policy = np.zeros(Q.shape)"
   ]
  },
  {
   "cell_type": "code",
   "execution_count": 27,
   "metadata": {},
   "outputs": [],
   "source": [
    "for i in range(max(Q.shape)):\n",
    "    J_copy = np.copy(J)\n",
    "    for i in range(Q.shape[0]):\n",
    "        for j in range(Q.shape[1]):\n",
    "            min_cost = np.inf\n",
    "            \n",
    "            for u in input_grid:\n",
    "                x = f([Q[i, j], Qdot[i, j]], u)\n",
    "                idx = convert_state_to_nearest_idx(x) \n",
    "                min_cost = min(min_cost, g([Q[i, j], Qdot[i, j]], u) + J_copy[idx])\n",
    "                policy[i, j] = u\n",
    "\n",
    "            J[i, j] = min_cost"
   ]
  },
  {
   "cell_type": "code",
   "execution_count": 32,
   "metadata": {},
   "outputs": [
    {
     "data": {
      "application/vnd.jupyter.widget-view+json": {
       "model_id": "99adc7ed174247439a64c4912a0f0147",
       "version_major": 2,
       "version_minor": 0
      },
      "image/png": "[encoded data removed]",
      "text/html": [
       "\n",
       "            <div style=\"display: inline-block;\">\n",
       "                <div class=\"jupyter-widgets widget-label\" style=\"text-align: center;\">\n",
       "                    Figure\n",
       "                </div>\n",
       "                <img src='data:image/png;base64,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' width=800.0/>\n",
       "            </div>\n",
       "        "
      ],
      "text/plain": [
       "Canvas(toolbar=Toolbar(toolitems=[('Home', 'Reset original view', 'home', 'home'), ('Back', 'Back to previous …"
      ]
     },
     "metadata": {},
     "output_type": "display_data"
    }
   ],
   "source": [
    "from mpl_toolkits.mplot3d import Axes3D\n",
    "\n",
    "fig, ax = plt.subplots(1, 2, figsize=(8, 3))\n",
    "c = ax[0].pcolormesh(Q, Qdot, J, cmap='viridis')\n",
    "fig.colorbar(c, ax=ax[0])\n",
    "ax[0].set_xlabel('q')\n",
    "ax[0].set_ylabel('q_dot')\n",
    "ax[0].set_title('J')\n",
    "\n",
    "c = ax[1].pcolormesh(Q, Qdot, policy, cmap='viridis')\n",
    "fig.colorbar(c, ax=ax[1])\n",
    "ax[1].set_xlabel('q')\n",
    "ax[1].set_ylabel('q_dot')\n",
    "ax[1].set_title('Policy')\n",
    "\n",
    "plt.show()"
   ]
  },
  {
   "cell_type": "code",
   "execution_count": null,
   "metadata": {},
   "outputs": [],
   "source": [
    "fig = plt.figure()\n",
    "ax = fig.add_subplot(111, projection='3d')\n",
    "\n",
    "ax.plot_surface(Q, Qdot, J, cmap='viridis')\n",
    "ax.set_xlabel('q')\n",
    "ax.set_ylabel('q_dot')\n",
    "ax.set_zlabel('J')\n",
    "plt.show()"
   ]
  },
  {
   "cell_type": "markdown",
   "metadata": {},
   "source": [
    "# The General Case"
   ]
  },
  {
   "cell_type": "code",
   "execution_count": 27,
   "metadata": {},
   "outputs": [],
   "source": [
    "def discrete_dp(S, A, f, g, s_goal, T=None):\n",
    "    \"\"\"\n",
    "        This is an implementation of dynamic programming to solve control problems using discrete optimization. \n",
    "        It assumes finite state and action spaces.\n",
    "        Inputs: \n",
    "            S -- discrete state space,\n",
    "            A -- discrete action space,\n",
    "            f:SxA --> S -- transition function, \n",
    "            g:SxA --> real -- cost function (to be minimized),\n",
    "            s_goal -- goal state,\n",
    "            T -- time horizon (default=max(S.shape))\n",
    "    \"\"\"\n",
    "    # Initialize the value function\n",
    "    if T is None:\n",
    "        T = max(S.shape)\n",
    "\n",
    "    cost_to_go = np.zeros(S.shape[0])\n",
    "    policy = np.zeros(S.shape[0])\n",
    "\n",
    "    # Iterate over time\n",
    "    for t in range(T):\n",
    "        cost_to_go_copy = np.copy(cost_to_go)\n",
    "        # Iterate over states\n",
    "        for i, s in enumerate(S): \n",
    "            # Compute the cost-to-go for each state-action pair\n",
    "            cost_to_go[i] = min([g(s, a) + cost_to_go_copy[f(s, a)] for a in A])\n",
    "            # Update the policy\n",
    "            policy[i] = np.argmin([g(s, a) + cost_to_go_copy[f(s, a)] for a in A])\n",
    "    \n",
    "    return cost_to_go, policy\n"
   ]
  },
  {
   "cell_type": "code",
   "execution_count": null,
   "metadata": {},
   "outputs": [],
   "source": []
  }
 ],
 "metadata": {
  "kernelspec": {
   "display_name": "Python 3",
   "language": "python",
   "name": "python3"
  },
  "language_info": {
   "codemirror_mode": {
    "name": "ipython",
    "version": 3
   },
   "file_extension": ".py",
   "mimetype": "text/x-python",
   "name": "python",
   "nbconvert_exporter": "python",
   "pygments_lexer": "ipython3",
   "version": "3.12.8"
  }
 },
 "nbformat": 4,
 "nbformat_minor": 2
}
